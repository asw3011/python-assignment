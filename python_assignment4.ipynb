{
  "nbformat": 4,
  "nbformat_minor": 0,
  "metadata": {
    "colab": {
      "provenance": [],
      "collapsed_sections": [],
      "authorship_tag": "ABX9TyN263HXk5zdRGyQG5eAFhPZ",
      "include_colab_link": true
    },
    "kernelspec": {
      "name": "python3",
      "display_name": "Python 3"
    },
    "language_info": {
      "name": "python"
    }
  },
  "cells": [
    {
      "cell_type": "markdown",
      "metadata": {
        "id": "view-in-github",
        "colab_type": "text"
      },
      "source": [
        "<a href=\"https://colab.research.google.com/github/asw3011/python-assignment/blob/main/python_assignment4.ipynb\" target=\"_parent\"><img src=\"https://colab.research.google.com/assets/colab-badge.svg\" alt=\"Open In Colab\"/></a>"
      ]
    },
    {
      "cell_type": "code",
      "execution_count": null,
      "metadata": {
        "colab": {
          "base_uri": "https://localhost:8080/"
        },
        "id": "RiqTdHc3Yh4n",
        "outputId": "d81fc0d5-2c26-430d-fa61-2af8ea6f27d4"
      },
      "outputs": [
        {
          "output_type": "stream",
          "name": "stdout",
          "text": [
            "enter the number: 4\n",
            "factorial of 4 is 24\n"
          ]
        }
      ],
      "source": [
        "#1.find python prog to find factorial of no.\n",
        "import math\n",
        "def fact(n):\n",
        "  return(math.factorial(n))\n",
        "num=int(input(\"enter the number: \"))\n",
        "f = fact(num)\n",
        "print(f\"factorial of {num} is {f}\")\n",
        "  "
      ]
    },
    {
      "cell_type": "code",
      "source": [
        "#2.write prog for display tables\n",
        "num=int(input(\"enter the number of which you want table \"))\n",
        "for t in range(1,11):\n",
        "  print(f\"{num} x {t} : {t*num}\")"
      ],
      "metadata": {
        "colab": {
          "base_uri": "https://localhost:8080/"
        },
        "id": "MHWW-0AUdWcS",
        "outputId": "8972e0d1-29a2-4a80-e206-b46784abf6e3"
      },
      "execution_count": null,
      "outputs": [
        {
          "output_type": "stream",
          "name": "stdout",
          "text": [
            "enter the number of which you want table 5\n",
            "5 x 1 : 5\n",
            "5 x 2 : 10\n",
            "5 x 3 : 15\n",
            "5 x 4 : 20\n",
            "5 x 5 : 25\n",
            "5 x 6 : 30\n",
            "5 x 7 : 35\n",
            "5 x 8 : 40\n",
            "5 x 9 : 45\n",
            "5 x 10 : 50\n"
          ]
        }
      ]
    },
    {
      "cell_type": "code",
      "source": [
        "#3.write python prog to print fibonacci seq\n",
        "nterms = int(input(\"How many terms? \"))\n",
        "n1, n2 = 0, 1\n",
        "count = 0\n",
        "if nterms <= 0:\n",
        "   print(\"Please enter a positive integer\")\n",
        "elif nterms == 1:\n",
        "   print(f\"Fibonacci sequence upto {nterms}\")\n",
        "   print(n1)\n",
        "else:\n",
        "   print(\"Fibonacci sequence:\")\n",
        "   while count < nterms:\n",
        "       print(n1)\n",
        "       nth = n1 + n2\n",
        "       n1 = n2\n",
        "       n2 = nth\n",
        "       count += 1"
      ],
      "metadata": {
        "id": "cQ-hQ_3pfIMr",
        "colab": {
          "base_uri": "https://localhost:8080/"
        },
        "outputId": "a938e6d2-3655-49f7-f804-f5864d4dbcd3"
      },
      "execution_count": 2,
      "outputs": [
        {
          "output_type": "stream",
          "name": "stdout",
          "text": [
            "How many terms? 5\n",
            "Fibonacci sequence:\n",
            "0\n",
            "1\n",
            "1\n",
            "2\n",
            "3\n"
          ]
        }
      ]
    },
    {
      "cell_type": "code",
      "source": [
        "#4.write python prog to check armstrong no\n",
        "a = int(input(\"Enter a number: \"))\n",
        "sum = 0\n",
        "temp = a\n",
        "while temp > 0:\n",
        "   digit = temp % 10\n",
        "   sum += digit ** 3\n",
        "   temp //= 10\n",
        "if a == sum:\n",
        "   print(f\"{a} is an Armstrong number\")\n",
        "else:\n",
        "   print(f\"{a} is not an Armstrong number\")"
      ],
      "metadata": {
        "colab": {
          "base_uri": "https://localhost:8080/"
        },
        "id": "1W37VOLGYReQ",
        "outputId": "27f85136-db0f-49b8-adcb-5a93c3997315"
      },
      "execution_count": 3,
      "outputs": [
        {
          "output_type": "stream",
          "name": "stdout",
          "text": [
            "Enter a number: 153\n",
            "153 is an Armstrong number\n"
          ]
        }
      ]
    },
    {
      "cell_type": "code",
      "source": [
        "#6.write python prog to find sum of natural no\n",
        "num = int(input(\"Enter a number: \"))  \n",
        "if num < 0:  \n",
        "   print(\"Enter a positive number\")  \n",
        "else:  \n",
        "   sum = 0  \n",
        "   while(num > 0):  \n",
        "       sum += num  \n",
        "       num -= 1  \n",
        "   print(\"The sum is\",sum)  "
      ],
      "metadata": {
        "colab": {
          "base_uri": "https://localhost:8080/"
        },
        "id": "AdUeKvzVaKns",
        "outputId": "a80160e9-00b3-4435-e342-9205d487cb92"
      },
      "execution_count": 4,
      "outputs": [
        {
          "output_type": "stream",
          "name": "stdout",
          "text": [
            "Enter a number: 8\n",
            "The sum is 36\n"
          ]
        }
      ]
    }
  ]
}