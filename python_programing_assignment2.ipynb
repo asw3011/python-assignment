{
  "nbformat": 4,
  "nbformat_minor": 0,
  "metadata": {
    "colab": {
      "provenance": [],
      "collapsed_sections": [],
      "authorship_tag": "ABX9TyM7plNPzEzKg4Foy2UwETrP",
      "include_colab_link": true
    },
    "kernelspec": {
      "name": "python3",
      "display_name": "Python 3"
    },
    "language_info": {
      "name": "python"
    }
  },
  "cells": [
    {
      "cell_type": "markdown",
      "metadata": {
        "id": "view-in-github",
        "colab_type": "text"
      },
      "source": [
        "<a href=\"https://colab.research.google.com/github/asw3011/python-assignment/blob/main/python_programing_assignment2.ipynb\" target=\"_parent\"><img src=\"https://colab.research.google.com/assets/colab-badge.svg\" alt=\"Open In Colab\"/></a>"
      ]
    },
    {
      "cell_type": "code",
      "execution_count": null,
      "metadata": {
        "colab": {
          "base_uri": "https://localhost:8080/"
        },
        "id": "kw6Xeq-MqQJA",
        "outputId": "47287e7e-30d5-4fa1-b454-8e9d2900d2d5"
      },
      "outputs": [
        {
          "output_type": "stream",
          "name": "stdout",
          "text": [
            "enter km value20\n",
            "your miles value is :12.42 miles\n"
          ]
        }
      ],
      "source": [
        "#1.write prog to convert km to miles\n",
        "a=int(input(\"enter km value\"))\n",
        "miles=0.621*a\n",
        "print(f\"your miles value is :{miles} miles\")\n"
      ]
    },
    {
      "cell_type": "code",
      "source": [
        "#2.write prog to convert celsius to Fahrenheit\n",
        "a=int(input(\"enter the temparature in degree celsius \"))\n",
        "f=(a*1.8)+32\n",
        "print(f\"your converted Fahrenheit value is :{f} degree Fahrenheit\")"
      ],
      "metadata": {
        "colab": {
          "base_uri": "https://localhost:8080/"
        },
        "id": "bcJ5cc7qsOSk",
        "outputId": "9842646a-1ddf-4c27-df3c-423cacf2d23a"
      },
      "execution_count": null,
      "outputs": [
        {
          "output_type": "stream",
          "name": "stdout",
          "text": [
            "enter the temparature in degree celsius 35\n",
            "your converted Fahrenheit value is :95.0 degree Fahrenheit\n"
          ]
        }
      ]
    },
    {
      "cell_type": "code",
      "source": [
        "#3.write python program to display calender\n",
        "import calendar\n",
        "yy = 2022\n",
        "mm = 11\n",
        "print(calendar.month(yy,mm))"
      ],
      "metadata": {
        "colab": {
          "base_uri": "https://localhost:8080/"
        },
        "id": "e_okstgVwQYe",
        "outputId": "242b0067-c4e9-4fc8-e75b-bbc2676568a2"
      },
      "execution_count": null,
      "outputs": [
        {
          "output_type": "stream",
          "name": "stdout",
          "text": [
            "   November 2022\n",
            "Mo Tu We Th Fr Sa Su\n",
            "    1  2  3  4  5  6\n",
            " 7  8  9 10 11 12 13\n",
            "14 15 16 17 18 19 20\n",
            "21 22 23 24 25 26 27\n",
            "28 29 30\n",
            "\n"
          ]
        }
      ]
    },
    {
      "cell_type": "code",
      "source": [
        "#4. write python program to solve quadratic eq\n",
        "import cmath\n",
        "print(\"your quadratic eq in form ax**2+bx+c=0\")\n",
        "a = int(input(\"enter the value of a in quadratic eq \"))\n",
        "b = int(input(\"enter the value of b in quadratic eq \"))\n",
        "c = int(input(\"enter the value of c in quadratic eq \"))\n",
        "d= (b**2)-(4*a*c)\n",
        "sol_1=(-b-cmath.sqrt(d))/(2*a)\n",
        "sol_2=(-b+cmath.sqrt(d))/(2*a)\n",
        "print(f\"{sol_1} and {sol_2}\")"
      ],
      "metadata": {
        "colab": {
          "base_uri": "https://localhost:8080/"
        },
        "id": "V7XOvmxdxNh_",
        "outputId": "be18d276-00c4-4f7d-f45b-74af79639024"
      },
      "execution_count": null,
      "outputs": [
        {
          "output_type": "stream",
          "name": "stdout",
          "text": [
            "your quadratic eq in form ax**2+bx+c=0\n",
            "enter the value of a in quadratic eq 2\n",
            "enter the value of b in quadratic eq 4\n",
            "enter the value of c in quadratic eq 6\n",
            "(-1-1.4142135623730951j) and (-1+1.4142135623730951j)\n"
          ]
        }
      ]
    },
    {
      "cell_type": "code",
      "source": [
        "#5.write python program to swap 2 varaibles without temp variable\n",
        "a=10\n",
        "b=5\n",
        "a,b=b,a\n",
        "print(\"a=\",a)\n",
        "print(\"b=\",b)\n"
      ],
      "metadata": {
        "colab": {
          "base_uri": "https://localhost:8080/"
        },
        "id": "RBV3gIUzz7Kh",
        "outputId": "3fc30bcb-7362-4992-969c-6f6d5ca6e501"
      },
      "execution_count": null,
      "outputs": [
        {
          "output_type": "stream",
          "name": "stdout",
          "text": [
            "a= 5\n",
            "b= 10\n"
          ]
        }
      ]
    }
  ]
}