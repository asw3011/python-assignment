{
  "nbformat": 4,
  "nbformat_minor": 0,
  "metadata": {
    "colab": {
      "provenance": [],
      "collapsed_sections": [],
      "authorship_tag": "ABX9TyM4edHrkgrVmubNwWI9prOb",
      "include_colab_link": true
    },
    "kernelspec": {
      "name": "python3",
      "display_name": "Python 3"
    },
    "language_info": {
      "name": "python"
    }
  },
  "cells": [
    {
      "cell_type": "markdown",
      "metadata": {
        "id": "view-in-github",
        "colab_type": "text"
      },
      "source": [
        "<a href=\"https://colab.research.google.com/github/asw3011/python-assignment/blob/main/python_programing_assign1.ipynb\" target=\"_parent\"><img src=\"https://colab.research.google.com/assets/colab-badge.svg\" alt=\"Open In Colab\"/></a>"
      ]
    },
    {
      "cell_type": "code",
      "execution_count": null,
      "metadata": {
        "colab": {
          "base_uri": "https://localhost:8080/"
        },
        "id": "SKo2rVBrHtbF",
        "outputId": "d181fe10-290b-4575-a2cd-e3954b42e451"
      },
      "outputs": [
        {
          "output_type": "stream",
          "name": "stdout",
          "text": [
            "Hello Python\n"
          ]
        }
      ],
      "source": [
        "#1.write python prog for print hello python\n",
        "print(\"Hello Python\")\n"
      ]
    },
    {
      "cell_type": "code",
      "source": [
        "#2 write prog for airth opr add & division\n",
        "a=6\n",
        "b=3\n",
        "print(a+b)"
      ],
      "metadata": {
        "colab": {
          "base_uri": "https://localhost:8080/"
        },
        "id": "NnsYFx32ITr_",
        "outputId": "2c1ac76a-59d8-48e5-9568-3558b1355793"
      },
      "execution_count": null,
      "outputs": [
        {
          "output_type": "stream",
          "name": "stdout",
          "text": [
            "9\n"
          ]
        }
      ]
    },
    {
      "cell_type": "code",
      "source": [
        "a=6\n",
        "b=3\n",
        "print(a/b)"
      ],
      "metadata": {
        "colab": {
          "base_uri": "https://localhost:8080/"
        },
        "id": "XqIsYVFhIvC8",
        "outputId": "24b61fd4-6111-4ea4-83dd-e2995d55b5d8"
      },
      "execution_count": null,
      "outputs": [
        {
          "output_type": "stream",
          "name": "stdout",
          "text": [
            "2.0\n"
          ]
        }
      ]
    },
    {
      "cell_type": "code",
      "source": [
        "#3 write prog for area of triangle\n",
        "l = int(input(\"enter value of length of triangle: \"))\n",
        "b = int(input(\"enter value of breath of triangle: \"))\n",
        "area = 0.5*l*b\n",
        "print(f\"area of triangle is = {area}\")"
      ],
      "metadata": {
        "colab": {
          "base_uri": "https://localhost:8080/"
        },
        "id": "Jp1ikcTdI-8T",
        "outputId": "43e249b5-2d6c-4d92-9cf8-fde24ba1a984"
      },
      "execution_count": null,
      "outputs": [
        {
          "output_type": "stream",
          "name": "stdout",
          "text": [
            "enter value of length of triangle: 12\n",
            "enter value of breath of triangle: 8\n",
            "area of triangle is = 48.0\n"
          ]
        }
      ]
    },
    {
      "cell_type": "code",
      "source": [
        "#4 write prog for swap 2 variables\n",
        "name= \"Python\"\n",
        "print(name.swapcase())"
      ],
      "metadata": {
        "colab": {
          "base_uri": "https://localhost:8080/"
        },
        "id": "pSTY6awIKaNT",
        "outputId": "278d662f-6879-4b81-dfb5-c09928bcd4ce"
      },
      "execution_count": null,
      "outputs": [
        {
          "output_type": "stream",
          "name": "stdout",
          "text": [
            "pYTHON\n"
          ]
        }
      ]
    },
    {
      "cell_type": "code",
      "source": [
        "#5 write program to gen random no\n",
        "a= int(input(\"enter random number: \"))"
      ],
      "metadata": {
        "colab": {
          "base_uri": "https://localhost:8080/"
        },
        "id": "RMFZaNe_LKTa",
        "outputId": "0a267919-189f-4e60-c1cc-8d3fbea91796"
      },
      "execution_count": null,
      "outputs": [
        {
          "name": "stdout",
          "output_type": "stream",
          "text": [
            "enter random number: 22\n"
          ]
        }
      ]
    }
  ]
}